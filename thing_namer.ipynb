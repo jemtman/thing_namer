{
 "cells": [
  {
   "cell_type": "markdown",
   "metadata": {},
   "source": [
    "# Thing Namer\n",
    "A program to name things using  chains.\n",
    "Written by Jeff Emtman as a benefit for the Patreon supporters of Here Be Monsters Podcast (https://HBMpodcast.com)\n",
    "\n",
    "To use the code, run each cell in this notebook. "
   ]
  },
  {
   "cell_type": "markdown",
   "metadata": {},
   "source": [
    "## Setup\n",
    "The next couple blocks run all the setup for the main program to work. "
   ]
  },
  {
   "cell_type": "markdown",
   "metadata": {},
   "source": [
    "### User Variables\n",
    "Change these around per your choosing"
   ]
  },
  {
   "cell_type": "code",
   "execution_count": null,
   "metadata": {},
   "outputs": [],
   "source": [
    "# How many results to deliver with each run.\n",
    "number_of_names = 5\n",
    "\n",
    "# This is the state size of the markov model.  1 will yield the most wild results.\n",
    "# For short things like names, I wouldn't recommend anything higher than 3.  2 is default.\n",
    "normalness = 2\n",
    "\n",
    "# Max number of characters in any given result. \n",
    "max_name_length = 15\n",
    "\n",
    "# A text file where each entry is on a new line.  Used to train markov model.\n",
    "raw_text = \"baby_names.txt\"\n"
   ]
  },
  {
   "cell_type": "markdown",
   "metadata": {},
   "source": [
    "### Install Markovify\n",
    "This is a bit of external code that we need for the rest of the code to work. "
   ]
  },
  {
   "cell_type": "code",
   "execution_count": null,
   "metadata": {},
   "outputs": [],
   "source": [
    "! pip install markovify\n",
    "print(\"DONE.\")"
   ]
  },
  {
   "cell_type": "markdown",
   "metadata": {},
   "source": [
    "### Imports & Functions"
   ]
  },
  {
   "cell_type": "code",
   "execution_count": null,
   "metadata": {},
   "outputs": [],
   "source": [
    "# markovify lets us make the new names. \n",
    "import markovify\n",
    "#if you don't have it, run \"pip install markovify\" on your command line. \n",
    "\n",
    "# time package is needed for pauses\n",
    "import time\n",
    "\n",
    "\n",
    "# sillyPrint lets output print slowly for dramatic effect.  Used heavily throughout program. \n",
    "def sillyPrint(the_input, delay = 0.2):\n",
    "    output = \"\"\n",
    "    for i in range(len(the_input)):\n",
    "        output += the_input[i]\n",
    "        print(output, end = \"\\r\")\n",
    "        \n",
    "        time.sleep(delay) "
   ]
  },
  {
   "cell_type": "markdown",
   "metadata": {},
   "source": [
    "## Main Program\n",
    "Once you've done all the setup blocks, you can run this block as many times as you'd like. Enjoy!"
   ]
  },
  {
   "cell_type": "code",
   "execution_count": null,
   "metadata": {},
   "outputs": [],
   "source": [
    "\n",
    "######################## WELCOME THE USER #######################\n",
    "print('''\n",
    " ______ _   Welcome to:          , _                                \n",
    "(_) |  | |    o                 /|/ \\                               \n",
    "    |  | |        _  _    __,    |   |   __,   _  _  _    _   ,_    \n",
    "  _ |  |/ \\   |  / |/ |  /  |    |   |  /  |  / |/ |/ |  |/  /  |   \n",
    " (_/   |   |_/|_/  |  |_/\\_/|/   |   |_/\\_/|_/  |  |  |_/|__/   |_/ \n",
    "                           /|   From Jeff Industries and Fabrication \n",
    "©2022, Jeff Emtman.        \\|                            Version 1.0\n",
    "Released 2022-05-04 under an MIT License.  See license.txt for details. \n",
    "\n",
    "Thing Namer is a tool for naming things.  It uses a text file to train a \n",
    "simple Markov model that can generate new names. It comes with a list of \n",
    "baby names from the United States from the last hundred-ish years. You can\n",
    "alter the code to have it generate from anything you'd like though. \n",
    "\n",
    "NOTE: This program needs \"Markovify\" to run: https://pypi.org/project/markovify/\n",
    "\n",
    "________________________________________________________________________________\n",
    "\n",
    "''')\n",
    "time.sleep(1)\n",
    "\n",
    "\n",
    "####################### LOADING / PROCESSING / TRAINING MODEL #######################\n",
    "\n",
    "print(\"Pre-processing the needed assets.\")\n",
    "time.sleep(1)\n",
    "\n",
    "# Open the raw text and read it line-by-line, call this \"corpus\"\n",
    "print(\"Loading source: \", raw_text)\n",
    "with open(raw_text) as f: \n",
    "    corpus = f.readlines()\n",
    "\n",
    "# Markovify wants things separated by spaces, so, iterate through the corpus\n",
    "# and add a space between each character\n",
    "space_separated_corpus = \"\"\n",
    "for line in corpus: \n",
    "    line = \" \".join(line)\n",
    "    space_separated_corpus += line\n",
    "print(\"Done.\\n\")\n",
    "\n",
    "# Now, build a markovify model from it\n",
    "print(\"Building markov model with state size of\", normalness)\n",
    "markov_model = markovify.NewlineText(space_separated_corpus, state_size=normalness)\n",
    "\n",
    "print(\"Done.  Ready to name.\")\n",
    "\n",
    "\n",
    "\n",
    "####################### MAIN LOOP #######################\n",
    "while True: \n",
    "    print(\" - - - - - - - - - - - - - - \\n\\n\")\n",
    "    time.sleep(.5)\n",
    "    thing_to_name = input(str(\"What would you like to name? eg. dog, plant, baby, etc...\\n\"))\n",
    "    \n",
    "    print(\"Thank you.  Generating\", number_of_names, \"names for your\", thing_to_name)\n",
    "\n",
    "    #fake loading bar\n",
    "    sillyPrint('_.~\"~._.~\"~._.~\"~._.~\"~._\\n', delay = .2)\n",
    "\n",
    "    print(\"\\nConsider naming your\", thing_to_name,)\n",
    "\n",
    "    for i in range(number_of_names): \n",
    "        # Generate a name uses the 'make_short_sentences' function of markovify which executes pretty much instantly.\n",
    "        name = str(markov_model.make_short_sentence(max_name_length))\n",
    "\n",
    "        #combining it into a simple string so sillyPrint can handle it\n",
    "        output = (\"   \" + str(i+1) +\".  \" + name + \"\\n\")\n",
    "\n",
    "        # sillyprint the output, pause for a moment to read.\n",
    "        sillyPrint(output, delay=.2)\n",
    "        time.sleep(2)\n",
    "\n",
    "    ## Should it run again? \n",
    "    run_again = input(str(\"\\nWould you like to run again? (Y/N)\"))\n",
    "    \n",
    "    if run_again.lower() == \"y\":\n",
    "        print(\"\\nRunning again.\")\n",
    "        continue\n",
    "    else: \n",
    "        print(\"\\nThanks for coming by.  Hope it works out for you.\")\n",
    "        print(\"Exiting.\")\n",
    "        time.sleep(2)\n",
    "        break "
   ]
  }
 ],
 "metadata": {
  "interpreter": {
   "hash": "454e8d7ca5fafa048e63d628c0ec6f514fc981416a77fec15f4fce2c404c34ee"
  },
  "kernelspec": {
   "display_name": "Python 3.10.2 64-bit",
   "language": "python",
   "name": "python3"
  },
  "language_info": {
   "codemirror_mode": {
    "name": "ipython",
    "version": 3
   },
   "file_extension": ".py",
   "mimetype": "text/x-python",
   "name": "python",
   "nbconvert_exporter": "python",
   "pygments_lexer": "ipython3",
   "version": "3.10.2"
  },
  "orig_nbformat": 4
 },
 "nbformat": 4,
 "nbformat_minor": 2
}
